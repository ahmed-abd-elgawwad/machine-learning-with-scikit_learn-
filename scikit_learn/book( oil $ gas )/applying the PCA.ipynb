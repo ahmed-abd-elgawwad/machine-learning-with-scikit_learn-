{
 "cells": [
  {
   "cell_type": "markdown",
   "id": "immediate-philip",
   "metadata": {},
   "source": [
    "# apply the PCA ( prrinciple components analysis )\n",
    "- reducing the dimentions of the data ( features )\n",
    "- choose the eginvectors that has the heighest variance and make them as the dimentions \n",
    "- each egin vector is a vector of the main features"
   ]
  },
  {
   "cell_type": "code",
   "execution_count": 7,
   "id": "cardiovascular-solomon",
   "metadata": {},
   "outputs": [],
   "source": [
    "import pandas as pd \n",
    "import numpy as np\n",
    "import matplotlib.pyplot as plt\n",
    "import seaborn as sns\n",
    "sns.set_style(\"whitegrid\")\n",
    "%matplotlib inline"
   ]
  },
  {
   "cell_type": "code",
   "execution_count": 2,
   "id": "caroline-processing",
   "metadata": {},
   "outputs": [],
   "source": [
    "df=pd.read_excel(\"D:/Programming/DATA - SCIENCE/oil_data/Chapter 3/Principal Component Analysis (PCA)/Chapter3_Completions_DataSet.xlsx\")"
   ]
  },
  {
   "cell_type": "code",
   "execution_count": 3,
   "id": "higher-campbell",
   "metadata": {},
   "outputs": [
    {
     "data": {
      "text/html": [
       "<div>\n",
       "<style scoped>\n",
       "    .dataframe tbody tr th:only-of-type {\n",
       "        vertical-align: middle;\n",
       "    }\n",
       "\n",
       "    .dataframe tbody tr th {\n",
       "        vertical-align: top;\n",
       "    }\n",
       "\n",
       "    .dataframe thead th {\n",
       "        text-align: right;\n",
       "    }\n",
       "</style>\n",
       "<table border=\"1\" class=\"dataframe\">\n",
       "  <thead>\n",
       "    <tr style=\"text-align: right;\">\n",
       "      <th></th>\n",
       "      <th>Stage Spacing</th>\n",
       "      <th>Cluster Spacing</th>\n",
       "      <th>Sand per ft (# per ft)</th>\n",
       "      <th>Water per ft (gal per ft)</th>\n",
       "    </tr>\n",
       "  </thead>\n",
       "  <tbody>\n",
       "    <tr>\n",
       "      <th>0</th>\n",
       "      <td>173.4</td>\n",
       "      <td>45.5</td>\n",
       "      <td>1117.2</td>\n",
       "      <td>10.0</td>\n",
       "    </tr>\n",
       "    <tr>\n",
       "      <th>1</th>\n",
       "      <td>166.6</td>\n",
       "      <td>39.0</td>\n",
       "      <td>1117.2</td>\n",
       "      <td>10.0</td>\n",
       "    </tr>\n",
       "    <tr>\n",
       "      <th>2</th>\n",
       "      <td>159.8</td>\n",
       "      <td>41.6</td>\n",
       "      <td>1037.4</td>\n",
       "      <td>10.0</td>\n",
       "    </tr>\n",
       "    <tr>\n",
       "      <th>3</th>\n",
       "      <td>156.4</td>\n",
       "      <td>40.3</td>\n",
       "      <td>1197.0</td>\n",
       "      <td>10.0</td>\n",
       "    </tr>\n",
       "    <tr>\n",
       "      <th>4</th>\n",
       "      <td>170.0</td>\n",
       "      <td>46.8</td>\n",
       "      <td>1117.2</td>\n",
       "      <td>10.0</td>\n",
       "    </tr>\n",
       "    <tr>\n",
       "      <th>...</th>\n",
       "      <td>...</td>\n",
       "      <td>...</td>\n",
       "      <td>...</td>\n",
       "      <td>...</td>\n",
       "    </tr>\n",
       "    <tr>\n",
       "      <th>139</th>\n",
       "      <td>234.6</td>\n",
       "      <td>40.3</td>\n",
       "      <td>4309.2</td>\n",
       "      <td>105.0</td>\n",
       "    </tr>\n",
       "    <tr>\n",
       "      <th>140</th>\n",
       "      <td>227.8</td>\n",
       "      <td>40.3</td>\n",
       "      <td>4468.8</td>\n",
       "      <td>120.0</td>\n",
       "    </tr>\n",
       "    <tr>\n",
       "      <th>141</th>\n",
       "      <td>234.6</td>\n",
       "      <td>40.3</td>\n",
       "      <td>4069.8</td>\n",
       "      <td>115.0</td>\n",
       "    </tr>\n",
       "    <tr>\n",
       "      <th>142</th>\n",
       "      <td>197.2</td>\n",
       "      <td>35.1</td>\n",
       "      <td>4069.8</td>\n",
       "      <td>95.0</td>\n",
       "    </tr>\n",
       "    <tr>\n",
       "      <th>143</th>\n",
       "      <td>231.2</td>\n",
       "      <td>41.6</td>\n",
       "      <td>4708.2</td>\n",
       "      <td>115.0</td>\n",
       "    </tr>\n",
       "  </tbody>\n",
       "</table>\n",
       "<p>144 rows × 4 columns</p>\n",
       "</div>"
      ],
      "text/plain": [
       "     Stage Spacing  Cluster Spacing  Sand per ft (# per ft)  \\\n",
       "0            173.4             45.5                  1117.2   \n",
       "1            166.6             39.0                  1117.2   \n",
       "2            159.8             41.6                  1037.4   \n",
       "3            156.4             40.3                  1197.0   \n",
       "4            170.0             46.8                  1117.2   \n",
       "..             ...              ...                     ...   \n",
       "139          234.6             40.3                  4309.2   \n",
       "140          227.8             40.3                  4468.8   \n",
       "141          234.6             40.3                  4069.8   \n",
       "142          197.2             35.1                  4069.8   \n",
       "143          231.2             41.6                  4708.2   \n",
       "\n",
       "     Water per ft (gal per ft)  \n",
       "0                         10.0  \n",
       "1                         10.0  \n",
       "2                         10.0  \n",
       "3                         10.0  \n",
       "4                         10.0  \n",
       "..                         ...  \n",
       "139                      105.0  \n",
       "140                      120.0  \n",
       "141                      115.0  \n",
       "142                       95.0  \n",
       "143                      115.0  \n",
       "\n",
       "[144 rows x 4 columns]"
      ]
     },
     "execution_count": 3,
     "metadata": {},
     "output_type": "execute_result"
    }
   ],
   "source": [
    "df"
   ]
  },
  {
   "cell_type": "markdown",
   "id": "monetary-transparency",
   "metadata": {},
   "source": [
    "# first standarizinf the data"
   ]
  },
  {
   "cell_type": "code",
   "execution_count": 4,
   "id": "vocational-policy",
   "metadata": {},
   "outputs": [
    {
     "data": {
      "text/html": [
       "<div>\n",
       "<style scoped>\n",
       "    .dataframe tbody tr th:only-of-type {\n",
       "        vertical-align: middle;\n",
       "    }\n",
       "\n",
       "    .dataframe tbody tr th {\n",
       "        vertical-align: top;\n",
       "    }\n",
       "\n",
       "    .dataframe thead th {\n",
       "        text-align: right;\n",
       "    }\n",
       "</style>\n",
       "<table border=\"1\" class=\"dataframe\">\n",
       "  <thead>\n",
       "    <tr style=\"text-align: right;\">\n",
       "      <th></th>\n",
       "      <th>Stage Spacing</th>\n",
       "      <th>Cluster Spacing</th>\n",
       "      <th>Sand per ft (# per ft)</th>\n",
       "      <th>Water per ft (gal per ft)</th>\n",
       "    </tr>\n",
       "  </thead>\n",
       "  <tbody>\n",
       "    <tr>\n",
       "      <th>0</th>\n",
       "      <td>-0.865617</td>\n",
       "      <td>1.018309</td>\n",
       "      <td>-1.299677</td>\n",
       "      <td>-1.280053</td>\n",
       "    </tr>\n",
       "    <tr>\n",
       "      <th>1</th>\n",
       "      <td>-1.105788</td>\n",
       "      <td>-0.125501</td>\n",
       "      <td>-1.299677</td>\n",
       "      <td>-1.280053</td>\n",
       "    </tr>\n",
       "    <tr>\n",
       "      <th>2</th>\n",
       "      <td>-1.345959</td>\n",
       "      <td>0.332023</td>\n",
       "      <td>-1.356287</td>\n",
       "      <td>-1.280053</td>\n",
       "    </tr>\n",
       "    <tr>\n",
       "      <th>3</th>\n",
       "      <td>-1.466045</td>\n",
       "      <td>0.103261</td>\n",
       "      <td>-1.243066</td>\n",
       "      <td>-1.280053</td>\n",
       "    </tr>\n",
       "    <tr>\n",
       "      <th>4</th>\n",
       "      <td>-0.985703</td>\n",
       "      <td>1.247071</td>\n",
       "      <td>-1.299677</td>\n",
       "      <td>-1.280053</td>\n",
       "    </tr>\n",
       "    <tr>\n",
       "      <th>...</th>\n",
       "      <td>...</td>\n",
       "      <td>...</td>\n",
       "      <td>...</td>\n",
       "      <td>...</td>\n",
       "    </tr>\n",
       "    <tr>\n",
       "      <th>139</th>\n",
       "      <td>1.295924</td>\n",
       "      <td>0.103261</td>\n",
       "      <td>0.964733</td>\n",
       "      <td>1.254119</td>\n",
       "    </tr>\n",
       "    <tr>\n",
       "      <th>140</th>\n",
       "      <td>1.055752</td>\n",
       "      <td>0.103261</td>\n",
       "      <td>1.077953</td>\n",
       "      <td>1.654251</td>\n",
       "    </tr>\n",
       "    <tr>\n",
       "      <th>141</th>\n",
       "      <td>1.295924</td>\n",
       "      <td>0.103261</td>\n",
       "      <td>0.794902</td>\n",
       "      <td>1.520874</td>\n",
       "    </tr>\n",
       "    <tr>\n",
       "      <th>142</th>\n",
       "      <td>-0.025018</td>\n",
       "      <td>-0.811787</td>\n",
       "      <td>0.794902</td>\n",
       "      <td>0.987364</td>\n",
       "    </tr>\n",
       "    <tr>\n",
       "      <th>143</th>\n",
       "      <td>1.175838</td>\n",
       "      <td>0.332023</td>\n",
       "      <td>1.247784</td>\n",
       "      <td>1.520874</td>\n",
       "    </tr>\n",
       "  </tbody>\n",
       "</table>\n",
       "<p>144 rows × 4 columns</p>\n",
       "</div>"
      ],
      "text/plain": [
       "     Stage Spacing  Cluster Spacing  Sand per ft (# per ft)  \\\n",
       "0        -0.865617         1.018309               -1.299677   \n",
       "1        -1.105788        -0.125501               -1.299677   \n",
       "2        -1.345959         0.332023               -1.356287   \n",
       "3        -1.466045         0.103261               -1.243066   \n",
       "4        -0.985703         1.247071               -1.299677   \n",
       "..             ...              ...                     ...   \n",
       "139       1.295924         0.103261                0.964733   \n",
       "140       1.055752         0.103261                1.077953   \n",
       "141       1.295924         0.103261                0.794902   \n",
       "142      -0.025018        -0.811787                0.794902   \n",
       "143       1.175838         0.332023                1.247784   \n",
       "\n",
       "     Water per ft (gal per ft)  \n",
       "0                    -1.280053  \n",
       "1                    -1.280053  \n",
       "2                    -1.280053  \n",
       "3                    -1.280053  \n",
       "4                    -1.280053  \n",
       "..                         ...  \n",
       "139                   1.254119  \n",
       "140                   1.654251  \n",
       "141                   1.520874  \n",
       "142                   0.987364  \n",
       "143                   1.520874  \n",
       "\n",
       "[144 rows x 4 columns]"
      ]
     },
     "execution_count": 4,
     "metadata": {},
     "output_type": "execute_result"
    }
   ],
   "source": [
    "from sklearn.preprocessing import StandardScaler\n",
    "s=StandardScaler()\n",
    "df_standard=s.fit_transform(df)\n",
    "df_standard=pd.DataFrame(df_standard,columns=df.columns)\n",
    "df_standard\n"
   ]
  },
  {
   "cell_type": "markdown",
   "id": "alpine-export",
   "metadata": {},
   "source": [
    "# apply the PCA"
   ]
  },
  {
   "cell_type": "code",
   "execution_count": 13,
   "id": "conscious-rotation",
   "metadata": {},
   "outputs": [],
   "source": [
    "from sklearn.decomposition import PCA\n",
    "p=PCA()\n",
    "df_transformed=p.fit_transform(df_standard)\n",
    "df_transformed= pd.DataFrame(df_transformed,columns=df.columns)"
   ]
  },
  {
   "cell_type": "code",
   "execution_count": 40,
   "id": "linear-bunch",
   "metadata": {},
   "outputs": [
    {
     "data": {
      "text/plain": [
       "<Figure size 720x576 with 0 Axes>"
      ]
     },
     "metadata": {},
     "output_type": "display_data"
    },
    {
     "data": {
      "image/png": "[encoded data removed]",
      "text/plain": [
       "<Figure size 360x360 with 1 Axes>"
      ]
     },
     "metadata": {
      "needs_background": "light"
     },
     "output_type": "display_data"
    }
   ],
   "source": [
    "plt.figure(figsize=(10,8))\n",
    "sns.lmplot(data=df_transformed,x=\"Stage Spacing\",y=\"Cluster Spacing\",palette=\"redgreen\",fit_reg=True,order=2)\n",
    "plt.xlabel(\"PC1\",fontsize=15,color=\"green\")\n",
    "plt.title(\"the new dimentions \",fontsize=20)\n",
    "plt.ylabel(\"PC2\",fontsize=15,color=\"green\")\n",
    "plt.show()"
   ]
  },
  {
   "cell_type": "markdown",
   "id": "practical-appreciation",
   "metadata": {},
   "source": [
    "### the vectors coefficients are"
   ]
  },
  {
   "cell_type": "code",
   "execution_count": 17,
   "id": "focal-calendar",
   "metadata": {},
   "outputs": [
    {
     "data": {
      "text/html": [
       "<div>\n",
       "<style scoped>\n",
       "    .dataframe tbody tr th:only-of-type {\n",
       "        vertical-align: middle;\n",
       "    }\n",
       "\n",
       "    .dataframe tbody tr th {\n",
       "        vertical-align: top;\n",
       "    }\n",
       "\n",
       "    .dataframe thead th {\n",
       "        text-align: right;\n",
       "    }\n",
       "</style>\n",
       "<table border=\"1\" class=\"dataframe\">\n",
       "  <thead>\n",
       "    <tr style=\"text-align: right;\">\n",
       "      <th></th>\n",
       "      <th>Stage Spacing</th>\n",
       "      <th>Cluster Spacing</th>\n",
       "      <th>Sand per ft (# per ft)</th>\n",
       "      <th>Water per ft (gal per ft)</th>\n",
       "    </tr>\n",
       "  </thead>\n",
       "  <tbody>\n",
       "    <tr>\n",
       "      <th>0</th>\n",
       "      <td>0.519427</td>\n",
       "      <td>-0.271276</td>\n",
       "      <td>0.580313</td>\n",
       "      <td>0.565545</td>\n",
       "    </tr>\n",
       "    <tr>\n",
       "      <th>1</th>\n",
       "      <td>0.387659</td>\n",
       "      <td>0.919532</td>\n",
       "      <td>0.024583</td>\n",
       "      <td>0.059802</td>\n",
       "    </tr>\n",
       "    <tr>\n",
       "      <th>2</th>\n",
       "      <td>-0.715775</td>\n",
       "      <td>0.256731</td>\n",
       "      <td>0.143414</td>\n",
       "      <td>0.633394</td>\n",
       "    </tr>\n",
       "    <tr>\n",
       "      <th>3</th>\n",
       "      <td>0.259966</td>\n",
       "      <td>-0.122305</td>\n",
       "      <td>-0.801289</td>\n",
       "      <td>0.524781</td>\n",
       "    </tr>\n",
       "  </tbody>\n",
       "</table>\n",
       "</div>"
      ],
      "text/plain": [
       "   Stage Spacing  Cluster Spacing  Sand per ft (# per ft)  \\\n",
       "0       0.519427        -0.271276                0.580313   \n",
       "1       0.387659         0.919532                0.024583   \n",
       "2      -0.715775         0.256731                0.143414   \n",
       "3       0.259966        -0.122305               -0.801289   \n",
       "\n",
       "   Water per ft (gal per ft)  \n",
       "0                   0.565545  \n",
       "1                   0.059802  \n",
       "2                   0.633394  \n",
       "3                   0.524781  "
      ]
     },
     "execution_count": 17,
     "metadata": {},
     "output_type": "execute_result"
    }
   ],
   "source": [
    "components= pd.DataFrame(p.components_,columns=df.columns)\n",
    "components"
   ]
  },
  {
   "cell_type": "code",
   "execution_count": 24,
   "id": "traditional-clock",
   "metadata": {},
   "outputs": [
    {
     "data": {
      "text/plain": [
       "array([2.9426187 , 0.92339068, 0.14243408, 0.01952857])"
      ]
     },
     "execution_count": 24,
     "metadata": {},
     "output_type": "execute_result"
    }
   ],
   "source": [
    "p.explained_variance_"
   ]
  },
  {
   "cell_type": "markdown",
   "id": "automatic-generation",
   "metadata": {},
   "source": [
    "### as we see in the second vector , the most effective feature is the ( cluster spacing )"
   ]
  },
  {
   "cell_type": "code",
   "execution_count": 38,
   "id": "weekly-clark",
   "metadata": {},
   "outputs": [
    {
     "data": {
      "text/plain": [
       "(array([0.5, 1.5, 2.5, 3.5]),\n",
       " [Text(0, 0.5, '0'), Text(0, 1.5, '1'), Text(0, 2.5, '2'), Text(0, 3.5, '3')])"
      ]
     },
     "execution_count": 38,
     "metadata": {},
     "output_type": "execute_result"
    },
    {
     "data": {
      "image/png": "[encoded data removed]",
      "text/plain": [
       "<Figure size 432x288 with 2 Axes>"
      ]
     },
     "metadata": {},
     "output_type": "display_data"
    }
   ],
   "source": [
    "plt.figure()\n",
    "palette=sns.light_palette(color=\"blue\",as_cmap=True)\n",
    "sns.heatmap(components,cmap=palette,annot=True)\n",
    "plt.xticks(color=\"#fff\")\n",
    "plt.yticks(color=\"#fff\")"
   ]
  },
  {
   "cell_type": "code",
   "execution_count": null,
   "id": "exact-thirty",
   "metadata": {},
   "outputs": [],
   "source": []
  }
 ],
 "metadata": {
  "kernelspec": {
   "display_name": "Python 3",
   "language": "python",
   "name": "python3"
  },
  "language_info": {
   "codemirror_mode": {
    "name": "ipython",
    "version": 3
   },
   "file_extension": ".py",
   "mimetype": "text/x-python",
   "name": "python",
   "nbconvert_exporter": "python",
   "pygments_lexer": "ipython3",
   "version": "3.8.2"
  }
 },
 "nbformat": 4,
 "nbformat_minor": 5
}
