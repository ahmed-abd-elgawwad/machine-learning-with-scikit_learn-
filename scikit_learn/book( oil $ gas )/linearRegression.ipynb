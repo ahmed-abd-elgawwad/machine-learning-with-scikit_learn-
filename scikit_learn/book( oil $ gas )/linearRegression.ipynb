{
 "cells": [
  {
   "cell_type": "markdown",
   "id": "divine-theorem",
   "metadata": {},
   "source": [
    "# LinearRegression model\n",
    "### uses some parameter to predict the production performance of the well ( RTA -> rate transient analysis)"
   ]
  },
  {
   "cell_type": "code",
   "execution_count": 1,
   "id": "indian-recorder",
   "metadata": {},
   "outputs": [],
   "source": [
    "import pandas as pd \n",
    "import numpy as np\n",
    "import matplotlib.pyplot as plt \n",
    "import seaborn as sns\n",
    "sns.set_style(\"whitegrid\")\n",
    "%matplotlib inline"
   ]
  },
  {
   "cell_type": "code",
   "execution_count": 2,
   "id": "novel-bonus",
   "metadata": {},
   "outputs": [],
   "source": [
    "df=pd.read_csv(\"D:/Programming/DATA - SCIENCE/oil_data/Chapter 5/Multi-linear regression/Chapter5_Geologic_DataSet.csv\")"
   ]
  },
  {
   "cell_type": "code",
   "execution_count": 3,
   "id": "normal-short",
   "metadata": {},
   "outputs": [
    {
     "data": {
      "text/html": [
       "<div>\n",
       "<style scoped>\n",
       "    .dataframe tbody tr th:only-of-type {\n",
       "        vertical-align: middle;\n",
       "    }\n",
       "\n",
       "    .dataframe tbody tr th {\n",
       "        vertical-align: top;\n",
       "    }\n",
       "\n",
       "    .dataframe thead th {\n",
       "        text-align: right;\n",
       "    }\n",
       "</style>\n",
       "<table border=\"1\" class=\"dataframe\">\n",
       "  <thead>\n",
       "    <tr style=\"text-align: right;\">\n",
       "      <th></th>\n",
       "      <th>Porosity (%)</th>\n",
       "      <th>Matrix Perm (nd)</th>\n",
       "      <th>Acoustic impedance (kg/m2s*10^6)</th>\n",
       "      <th>Brittleness Ratio</th>\n",
       "      <th>TOC (%)</th>\n",
       "      <th>Vitrinite Reflectance (%)</th>\n",
       "      <th>Aroot(K)</th>\n",
       "    </tr>\n",
       "  </thead>\n",
       "  <tbody>\n",
       "    <tr>\n",
       "      <th>0</th>\n",
       "      <td>8.456</td>\n",
       "      <td>292</td>\n",
       "      <td>3.080</td>\n",
       "      <td>97.680</td>\n",
       "      <td>4.64</td>\n",
       "      <td>1.848</td>\n",
       "      <td>48.306469</td>\n",
       "    </tr>\n",
       "    <tr>\n",
       "      <th>1</th>\n",
       "      <td>8.666</td>\n",
       "      <td>353</td>\n",
       "      <td>3.542</td>\n",
       "      <td>55.404</td>\n",
       "      <td>3.56</td>\n",
       "      <td>1.504</td>\n",
       "      <td>41.300912</td>\n",
       "    </tr>\n",
       "    <tr>\n",
       "      <th>2</th>\n",
       "      <td>9.814</td>\n",
       "      <td>259</td>\n",
       "      <td>4.411</td>\n",
       "      <td>87.360</td>\n",
       "      <td>3.56</td>\n",
       "      <td>2.176</td>\n",
       "      <td>49.688356</td>\n",
       "    </tr>\n",
       "    <tr>\n",
       "      <th>3</th>\n",
       "      <td>12.369</td>\n",
       "      <td>675</td>\n",
       "      <td>2.893</td>\n",
       "      <td>47.772</td>\n",
       "      <td>4.32</td>\n",
       "      <td>1.504</td>\n",
       "      <td>59.132694</td>\n",
       "    </tr>\n",
       "    <tr>\n",
       "      <th>4</th>\n",
       "      <td>12.264</td>\n",
       "      <td>457</td>\n",
       "      <td>3.498</td>\n",
       "      <td>13.128</td>\n",
       "      <td>6.04</td>\n",
       "      <td>1.520</td>\n",
       "      <td>39.503121</td>\n",
       "    </tr>\n",
       "    <tr>\n",
       "      <th>...</th>\n",
       "      <td>...</td>\n",
       "      <td>...</td>\n",
       "      <td>...</td>\n",
       "      <td>...</td>\n",
       "      <td>...</td>\n",
       "      <td>...</td>\n",
       "      <td>...</td>\n",
       "    </tr>\n",
       "    <tr>\n",
       "      <th>195</th>\n",
       "      <td>8.365</td>\n",
       "      <td>313</td>\n",
       "      <td>3.267</td>\n",
       "      <td>80.616</td>\n",
       "      <td>3.20</td>\n",
       "      <td>1.648</td>\n",
       "      <td>44.622765</td>\n",
       "    </tr>\n",
       "    <tr>\n",
       "      <th>196</th>\n",
       "      <td>12.593</td>\n",
       "      <td>987</td>\n",
       "      <td>3.718</td>\n",
       "      <td>53.184</td>\n",
       "      <td>3.92</td>\n",
       "      <td>1.664</td>\n",
       "      <td>64.961047</td>\n",
       "    </tr>\n",
       "    <tr>\n",
       "      <th>197</th>\n",
       "      <td>8.484</td>\n",
       "      <td>227</td>\n",
       "      <td>3.872</td>\n",
       "      <td>68.484</td>\n",
       "      <td>0.21</td>\n",
       "      <td>1.384</td>\n",
       "      <td>39.543047</td>\n",
       "    </tr>\n",
       "    <tr>\n",
       "      <th>198</th>\n",
       "      <td>10.885</td>\n",
       "      <td>448</td>\n",
       "      <td>2.728</td>\n",
       "      <td>69.900</td>\n",
       "      <td>7.56</td>\n",
       "      <td>1.880</td>\n",
       "      <td>59.004091</td>\n",
       "    </tr>\n",
       "    <tr>\n",
       "      <th>199</th>\n",
       "      <td>14.623</td>\n",
       "      <td>754</td>\n",
       "      <td>3.553</td>\n",
       "      <td>55.404</td>\n",
       "      <td>6.84</td>\n",
       "      <td>1.816</td>\n",
       "      <td>77.270733</td>\n",
       "    </tr>\n",
       "  </tbody>\n",
       "</table>\n",
       "<p>200 rows × 7 columns</p>\n",
       "</div>"
      ],
      "text/plain": [
       "     Porosity (%)  Matrix Perm (nd)  Acoustic impedance (kg/m2s*10^6)  \\\n",
       "0           8.456               292                             3.080   \n",
       "1           8.666               353                             3.542   \n",
       "2           9.814               259                             4.411   \n",
       "3          12.369               675                             2.893   \n",
       "4          12.264               457                             3.498   \n",
       "..            ...               ...                               ...   \n",
       "195         8.365               313                             3.267   \n",
       "196        12.593               987                             3.718   \n",
       "197         8.484               227                             3.872   \n",
       "198        10.885               448                             2.728   \n",
       "199        14.623               754                             3.553   \n",
       "\n",
       "     Brittleness Ratio  TOC (%)  Vitrinite Reflectance (%)   Aroot(K)  \n",
       "0               97.680     4.64                      1.848  48.306469  \n",
       "1               55.404     3.56                      1.504  41.300912  \n",
       "2               87.360     3.56                      2.176  49.688356  \n",
       "3               47.772     4.32                      1.504  59.132694  \n",
       "4               13.128     6.04                      1.520  39.503121  \n",
       "..                 ...      ...                        ...        ...  \n",
       "195             80.616     3.20                      1.648  44.622765  \n",
       "196             53.184     3.92                      1.664  64.961047  \n",
       "197             68.484     0.21                      1.384  39.543047  \n",
       "198             69.900     7.56                      1.880  59.004091  \n",
       "199             55.404     6.84                      1.816  77.270733  \n",
       "\n",
       "[200 rows x 7 columns]"
      ]
     },
     "execution_count": 3,
     "metadata": {},
     "output_type": "execute_result"
    }
   ],
   "source": [
    "df"
   ]
  },
  {
   "cell_type": "code",
   "execution_count": 4,
   "id": "broken-conspiracy",
   "metadata": {},
   "outputs": [
    {
     "data": {
      "text/html": [
       "<div>\n",
       "<style scoped>\n",
       "    .dataframe tbody tr th:only-of-type {\n",
       "        vertical-align: middle;\n",
       "    }\n",
       "\n",
       "    .dataframe tbody tr th {\n",
       "        vertical-align: top;\n",
       "    }\n",
       "\n",
       "    .dataframe thead th {\n",
       "        text-align: right;\n",
       "    }\n",
       "</style>\n",
       "<table border=\"1\" class=\"dataframe\">\n",
       "  <thead>\n",
       "    <tr style=\"text-align: right;\">\n",
       "      <th></th>\n",
       "      <th>count</th>\n",
       "      <th>mean</th>\n",
       "      <th>std</th>\n",
       "      <th>min</th>\n",
       "      <th>25%</th>\n",
       "      <th>50%</th>\n",
       "      <th>75%</th>\n",
       "      <th>max</th>\n",
       "    </tr>\n",
       "  </thead>\n",
       "  <tbody>\n",
       "    <tr>\n",
       "      <th>Porosity (%)</th>\n",
       "      <td>200.0</td>\n",
       "      <td>10.493805</td>\n",
       "      <td>2.079824</td>\n",
       "      <td>4.585000</td>\n",
       "      <td>9.03875</td>\n",
       "      <td>10.549000</td>\n",
       "      <td>12.181750</td>\n",
       "      <td>16.485000</td>\n",
       "    </tr>\n",
       "    <tr>\n",
       "      <th>Matrix Perm (nd)</th>\n",
       "      <td>200.0</td>\n",
       "      <td>433.075000</td>\n",
       "      <td>173.101415</td>\n",
       "      <td>113.000000</td>\n",
       "      <td>312.25000</td>\n",
       "      <td>403.500000</td>\n",
       "      <td>528.750000</td>\n",
       "      <td>987.000000</td>\n",
       "    </tr>\n",
       "    <tr>\n",
       "      <th>Acoustic impedance (kg/m2s*10^6)</th>\n",
       "      <td>200.0</td>\n",
       "      <td>3.265735</td>\n",
       "      <td>0.623574</td>\n",
       "      <td>1.408000</td>\n",
       "      <td>2.80225</td>\n",
       "      <td>3.250500</td>\n",
       "      <td>3.679500</td>\n",
       "      <td>5.093000</td>\n",
       "    </tr>\n",
       "    <tr>\n",
       "      <th>Brittleness Ratio</th>\n",
       "      <td>200.0</td>\n",
       "      <td>57.794340</td>\n",
       "      <td>16.955346</td>\n",
       "      <td>13.128000</td>\n",
       "      <td>45.30600</td>\n",
       "      <td>59.412000</td>\n",
       "      <td>69.915000</td>\n",
       "      <td>101.196000</td>\n",
       "    </tr>\n",
       "    <tr>\n",
       "      <th>TOC (%)</th>\n",
       "      <td>200.0</td>\n",
       "      <td>3.970700</td>\n",
       "      <td>1.907119</td>\n",
       "      <td>0.100000</td>\n",
       "      <td>2.47000</td>\n",
       "      <td>4.120000</td>\n",
       "      <td>5.400000</td>\n",
       "      <td>8.720000</td>\n",
       "    </tr>\n",
       "    <tr>\n",
       "      <th>Vitrinite Reflectance (%)</th>\n",
       "      <td>200.0</td>\n",
       "      <td>1.571440</td>\n",
       "      <td>0.240662</td>\n",
       "      <td>0.744000</td>\n",
       "      <td>1.41600</td>\n",
       "      <td>1.568000</td>\n",
       "      <td>1.714000</td>\n",
       "      <td>2.296000</td>\n",
       "    </tr>\n",
       "    <tr>\n",
       "      <th>Aroot(K)</th>\n",
       "      <td>200.0</td>\n",
       "      <td>50.000000</td>\n",
       "      <td>11.505310</td>\n",
       "      <td>24.437856</td>\n",
       "      <td>41.96103</td>\n",
       "      <td>49.692285</td>\n",
       "      <td>58.986667</td>\n",
       "      <td>77.270733</td>\n",
       "    </tr>\n",
       "  </tbody>\n",
       "</table>\n",
       "</div>"
      ],
      "text/plain": [
       "                                  count        mean         std         min  \\\n",
       "Porosity (%)                      200.0   10.493805    2.079824    4.585000   \n",
       "Matrix Perm (nd)                  200.0  433.075000  173.101415  113.000000   \n",
       "Acoustic impedance (kg/m2s*10^6)  200.0    3.265735    0.623574    1.408000   \n",
       "Brittleness Ratio                 200.0   57.794340   16.955346   13.128000   \n",
       "TOC (%)                           200.0    3.970700    1.907119    0.100000   \n",
       "Vitrinite Reflectance (%)         200.0    1.571440    0.240662    0.744000   \n",
       "Aroot(K)                          200.0   50.000000   11.505310   24.437856   \n",
       "\n",
       "                                        25%         50%         75%  \\\n",
       "Porosity (%)                        9.03875   10.549000   12.181750   \n",
       "Matrix Perm (nd)                  312.25000  403.500000  528.750000   \n",
       "Acoustic impedance (kg/m2s*10^6)    2.80225    3.250500    3.679500   \n",
       "Brittleness Ratio                  45.30600   59.412000   69.915000   \n",
       "TOC (%)                             2.47000    4.120000    5.400000   \n",
       "Vitrinite Reflectance (%)           1.41600    1.568000    1.714000   \n",
       "Aroot(K)                           41.96103   49.692285   58.986667   \n",
       "\n",
       "                                         max  \n",
       "Porosity (%)                       16.485000  \n",
       "Matrix Perm (nd)                  987.000000  \n",
       "Acoustic impedance (kg/m2s*10^6)    5.093000  \n",
       "Brittleness Ratio                 101.196000  \n",
       "TOC (%)                             8.720000  \n",
       "Vitrinite Reflectance (%)           2.296000  \n",
       "Aroot(K)                           77.270733  "
      ]
     },
     "execution_count": 4,
     "metadata": {},
     "output_type": "execute_result"
    }
   ],
   "source": [
    "df.describe().T"
   ]
  },
  {
   "cell_type": "markdown",
   "id": "alpine-tracker",
   "metadata": {},
   "source": [
    "#  ( 2 ) visualize the distribution of each feature"
   ]
  },
  {
   "cell_type": "code",
   "execution_count": 5,
   "id": "sunset-spectacular",
   "metadata": {},
   "outputs": [
    {
     "name": "stderr",
     "output_type": "stream",
     "text": [
      "c:\\users\\ae504\\appdata\\local\\programs\\python\\python38\\lib\\site-packages\\seaborn\\distributions.py:2557: FutureWarning: `distplot` is a deprecated function and will be removed in a future version. Please adapt your code to use either `displot` (a figure-level function with similar flexibility) or `histplot` (an axes-level function for histograms).\n",
      "  warnings.warn(msg, FutureWarning)\n",
      "c:\\users\\ae504\\appdata\\local\\programs\\python\\python38\\lib\\site-packages\\seaborn\\distributions.py:2557: FutureWarning: `distplot` is a deprecated function and will be removed in a future version. Please adapt your code to use either `displot` (a figure-level function with similar flexibility) or `histplot` (an axes-level function for histograms).\n",
      "  warnings.warn(msg, FutureWarning)\n",
      "c:\\users\\ae504\\appdata\\local\\programs\\python\\python38\\lib\\site-packages\\seaborn\\distributions.py:2557: FutureWarning: `distplot` is a deprecated function and will be removed in a future version. Please adapt your code to use either `displot` (a figure-level function with similar flexibility) or `histplot` (an axes-level function for histograms).\n",
      "  warnings.warn(msg, FutureWarning)\n",
      "c:\\users\\ae504\\appdata\\local\\programs\\python\\python38\\lib\\site-packages\\seaborn\\distributions.py:2557: FutureWarning: `distplot` is a deprecated function and will be removed in a future version. Please adapt your code to use either `displot` (a figure-level function with similar flexibility) or `histplot` (an axes-level function for histograms).\n",
      "  warnings.warn(msg, FutureWarning)\n",
      "c:\\users\\ae504\\appdata\\local\\programs\\python\\python38\\lib\\site-packages\\seaborn\\distributions.py:2557: FutureWarning: `distplot` is a deprecated function and will be removed in a future version. Please adapt your code to use either `displot` (a figure-level function with similar flexibility) or `histplot` (an axes-level function for histograms).\n",
      "  warnings.warn(msg, FutureWarning)\n",
      "c:\\users\\ae504\\appdata\\local\\programs\\python\\python38\\lib\\site-packages\\seaborn\\distributions.py:2557: FutureWarning: `distplot` is a deprecated function and will be removed in a future version. Please adapt your code to use either `displot` (a figure-level function with similar flexibility) or `histplot` (an axes-level function for histograms).\n",
      "  warnings.warn(msg, FutureWarning)\n",
      "c:\\users\\ae504\\appdata\\local\\programs\\python\\python38\\lib\\site-packages\\seaborn\\distributions.py:2557: FutureWarning: `distplot` is a deprecated function and will be removed in a future version. Please adapt your code to use either `displot` (a figure-level function with similar flexibility) or `histplot` (an axes-level function for histograms).\n",
      "  warnings.warn(msg, FutureWarning)\n"
     ]
    },
    {
     "data": {
      "image/png": "[encoded data removed]",
      "text/plain": [
       "<Figure size 864x864 with 8 Axes>"
      ]
     },
     "metadata": {
      "needs_background": "light"
     },
     "output_type": "display_data"
    }
   ],
   "source": [
    "f, axes=plt.subplots(4, 2, figsize=(12, 12))\n",
    "sns.distplot(df['Porosity (%)'], color=\"red\", ax=axes[0, 0],kde=True)\n",
    "sns.distplot(df['Matrix Perm (nd)'], color=\"olive\", ax=axes[0, 1],kde=True)\n",
    "sns.distplot(df['Acoustic impedance (kg/m2s*10^6)'],color=\"blue\", ax=axes[1, 0],kde=True)\n",
    "sns.distplot(df['Brittleness Ratio'], color=\"orange\", ax=axes[1, 1],kde=True)\n",
    "sns.distplot(df['TOC (%)'], color=\"black\", ax=axes[2, 0],kde=True)\n",
    "sns.distplot(df['Vitrinite Reflectance (%)'], color=\"green\",ax=axes[2, 1],kde=True)\n",
    "sns.distplot(df['Aroot(K)'], color=\"cyan\", ax=axes[3, 0],kde=True)\n",
    "plt.tight_layout()"
   ]
  },
  {
   "cell_type": "code",
   "execution_count": 6,
   "id": "sound-canberra",
   "metadata": {},
   "outputs": [
    {
     "name": "stderr",
     "output_type": "stream",
     "text": [
      "c:\\users\\ae504\\appdata\\local\\programs\\python\\python38\\lib\\site-packages\\seaborn\\_decorators.py:36: FutureWarning: Pass the following variable as a keyword arg: x. From version 0.12, the only valid positional argument will be `data`, and passing other arguments without an explicit keyword will result in an error or misinterpretation.\n",
      "  warnings.warn(\n",
      "c:\\users\\ae504\\appdata\\local\\programs\\python\\python38\\lib\\site-packages\\seaborn\\_decorators.py:36: FutureWarning: Pass the following variable as a keyword arg: x. From version 0.12, the only valid positional argument will be `data`, and passing other arguments without an explicit keyword will result in an error or misinterpretation.\n",
      "  warnings.warn(\n",
      "c:\\users\\ae504\\appdata\\local\\programs\\python\\python38\\lib\\site-packages\\seaborn\\_decorators.py:36: FutureWarning: Pass the following variable as a keyword arg: x. From version 0.12, the only valid positional argument will be `data`, and passing other arguments without an explicit keyword will result in an error or misinterpretation.\n",
      "  warnings.warn(\n",
      "c:\\users\\ae504\\appdata\\local\\programs\\python\\python38\\lib\\site-packages\\seaborn\\_decorators.py:36: FutureWarning: Pass the following variable as a keyword arg: x. From version 0.12, the only valid positional argument will be `data`, and passing other arguments without an explicit keyword will result in an error or misinterpretation.\n",
      "  warnings.warn(\n",
      "c:\\users\\ae504\\appdata\\local\\programs\\python\\python38\\lib\\site-packages\\seaborn\\_decorators.py:36: FutureWarning: Pass the following variable as a keyword arg: x. From version 0.12, the only valid positional argument will be `data`, and passing other arguments without an explicit keyword will result in an error or misinterpretation.\n",
      "  warnings.warn(\n",
      "c:\\users\\ae504\\appdata\\local\\programs\\python\\python38\\lib\\site-packages\\seaborn\\_decorators.py:36: FutureWarning: Pass the following variable as a keyword arg: x. From version 0.12, the only valid positional argument will be `data`, and passing other arguments without an explicit keyword will result in an error or misinterpretation.\n",
      "  warnings.warn(\n",
      "c:\\users\\ae504\\appdata\\local\\programs\\python\\python38\\lib\\site-packages\\seaborn\\_decorators.py:36: FutureWarning: Pass the following variable as a keyword arg: x. From version 0.12, the only valid positional argument will be `data`, and passing other arguments without an explicit keyword will result in an error or misinterpretation.\n",
      "  warnings.warn(\n"
     ]
    },
    {
     "data": {
      "image/png": "[encoded data removed]",
      "text/plain": [
       "<Figure size 864x864 with 8 Axes>"
      ]
     },
     "metadata": {
      "needs_background": "light"
     },
     "output_type": "display_data"
    }
   ],
   "source": [
    "f, axes=plt.subplots(4, 2, figsize=(12, 12))\n",
    "sns.boxplot(df['Porosity (%)'], color=\"red\", ax=axes[0, 0])\n",
    "sns.boxplot(df['Matrix Perm (nd)'], color=\"olive\", ax=axes[0, 1])\n",
    "sns.boxplot(df['Acoustic impedance (kg/m2s*10^6)'],color=\"blue\", ax=axes[1, 0])\n",
    "sns.boxplot(df['Brittleness Ratio'], color=\"orange\", ax=axes[1, 1])\n",
    "sns.boxplot(df['TOC (%)'], color=\"black\", ax=axes[2, 0])\n",
    "sns.boxplot(df['Vitrinite Reflectance (%)'], color=\"green\",ax=axes[2, 1])\n",
    "sns.boxplot(df['Aroot(K)'], color=\"cyan\", ax=axes[3, 0])\n",
    "plt.tight_layout()"
   ]
  },
  {
   "cell_type": "code",
   "execution_count": 7,
   "id": "guilty-combining",
   "metadata": {},
   "outputs": [
    {
     "data": {
      "image/png": "[encoded data removed]",
      "text/plain": [
       "<Figure size 936x936 with 6 Axes>"
      ]
     },
     "metadata": {
      "needs_background": "light"
     },
     "output_type": "display_data"
    }
   ],
   "source": [
    "# the ralation between the input variables and the target variable\n",
    "pf,axes=plt.subplots(2,3,figsize=(13,13))\n",
    "sns.scatterplot(x=\"Porosity (%)\",y=\"Aroot(K)\",color=\"red\",ax=axes[0,0],data=df)\n",
    "sns.scatterplot(x=\"Matrix Perm (nd)\",y=\"Aroot(K)\",color=\"red\",ax=axes[0,1],data=df)\n",
    "sns.scatterplot(x=\"Acoustic impedance (kg/m2s*10^6)\",y=\"Aroot(K)\",color=\"red\",ax=axes[0,2],data=df)\n",
    "sns.scatterplot(x=\"Brittleness Ratio\",y=\"Aroot(K)\",color=\"red\",ax=axes[1,0],data=df)\n",
    "sns.scatterplot(x=\"TOC (%)\",y=\"Aroot(K)\",color=\"red\",ax=axes[1,1],data=df)\n",
    "sns.scatterplot(x=\"Vitrinite Reflectance (%)\",y=\"Aroot(K)\",color=\"red\",ax=axes[1,2],data=df)\n",
    "plt.tight_layout()"
   ]
  },
  {
   "cell_type": "code",
   "execution_count": 8,
   "id": "restricted-straight",
   "metadata": {},
   "outputs": [
    {
     "data": {
      "image/png": "[encoded data removed]",
      "text/plain": [
       "<Figure size 720x720 with 2 Axes>"
      ]
     },
     "metadata": {
      "needs_background": "light"
     },
     "output_type": "display_data"
    }
   ],
   "source": [
    "# or plot the correlations\n",
    "plt.figure(figsize=(10,10))\n",
    "sns.heatmap(df.corr(),annot=True,cmap=\"viridis\",linecolor=\"white\",linewidths=2)\n",
    "plt.show()"
   ]
  },
  {
   "cell_type": "markdown",
   "id": "british-miniature",
   "metadata": {},
   "source": [
    "# feature selection:\n",
    "## form the heatmap:\n",
    "- pososity and permeability has high colleration\n",
    "- also , porosity and Toc\n",
    "- the porosity has the higher effect on the target varialbe \n",
    "### so, we only take porosity form these\n",
    "#### new featuers are [ Porosity (%) , Acoustic impedance (kg/m2s*10^6)\t, Brittleness Ratio ,Vitrinite Reflectance (%) ]\n"
   ]
  },
  {
   "cell_type": "markdown",
   "id": "scheduled-plant",
   "metadata": {},
   "source": [
    "# scaling and fitting the data"
   ]
  },
  {
   "cell_type": "code",
   "execution_count": 7,
   "id": "compliant-strike",
   "metadata": {
    "scrolled": true
   },
   "outputs": [
    {
     "data": {
      "text/html": [
       "<div>\n",
       "<style scoped>\n",
       "    .dataframe tbody tr th:only-of-type {\n",
       "        vertical-align: middle;\n",
       "    }\n",
       "\n",
       "    .dataframe tbody tr th {\n",
       "        vertical-align: top;\n",
       "    }\n",
       "\n",
       "    .dataframe thead th {\n",
       "        text-align: right;\n",
       "    }\n",
       "</style>\n",
       "<table border=\"1\" class=\"dataframe\">\n",
       "  <thead>\n",
       "    <tr style=\"text-align: right;\">\n",
       "      <th></th>\n",
       "      <th>Porosity (%)</th>\n",
       "      <th>Acoustic impedance (kg/m2s*10^6)</th>\n",
       "      <th>Brittleness Ratio</th>\n",
       "      <th>Vitrinite Reflectance (%)</th>\n",
       "      <th>Aroot(K)</th>\n",
       "    </tr>\n",
       "  </thead>\n",
       "  <tbody>\n",
       "    <tr>\n",
       "      <th>0</th>\n",
       "      <td>0.325294</td>\n",
       "      <td>0.453731</td>\n",
       "      <td>0.960076</td>\n",
       "      <td>0.711340</td>\n",
       "      <td>0.451776</td>\n",
       "    </tr>\n",
       "    <tr>\n",
       "      <th>1</th>\n",
       "      <td>0.342941</td>\n",
       "      <td>0.579104</td>\n",
       "      <td>0.480038</td>\n",
       "      <td>0.489691</td>\n",
       "      <td>0.319177</td>\n",
       "    </tr>\n",
       "    <tr>\n",
       "      <th>2</th>\n",
       "      <td>0.439412</td>\n",
       "      <td>0.814925</td>\n",
       "      <td>0.842894</td>\n",
       "      <td>0.922680</td>\n",
       "      <td>0.477932</td>\n",
       "    </tr>\n",
       "    <tr>\n",
       "      <th>3</th>\n",
       "      <td>0.654118</td>\n",
       "      <td>0.402985</td>\n",
       "      <td>0.393378</td>\n",
       "      <td>0.489691</td>\n",
       "      <td>0.656690</td>\n",
       "    </tr>\n",
       "    <tr>\n",
       "      <th>4</th>\n",
       "      <td>0.645294</td>\n",
       "      <td>0.567164</td>\n",
       "      <td>0.000000</td>\n",
       "      <td>0.500000</td>\n",
       "      <td>0.285149</td>\n",
       "    </tr>\n",
       "    <tr>\n",
       "      <th>...</th>\n",
       "      <td>...</td>\n",
       "      <td>...</td>\n",
       "      <td>...</td>\n",
       "      <td>...</td>\n",
       "      <td>...</td>\n",
       "    </tr>\n",
       "    <tr>\n",
       "      <th>195</th>\n",
       "      <td>0.317647</td>\n",
       "      <td>0.504478</td>\n",
       "      <td>0.766317</td>\n",
       "      <td>0.582474</td>\n",
       "      <td>0.382052</td>\n",
       "    </tr>\n",
       "    <tr>\n",
       "      <th>196</th>\n",
       "      <td>0.672941</td>\n",
       "      <td>0.626866</td>\n",
       "      <td>0.454830</td>\n",
       "      <td>0.592784</td>\n",
       "      <td>0.767007</td>\n",
       "    </tr>\n",
       "    <tr>\n",
       "      <th>197</th>\n",
       "      <td>0.327647</td>\n",
       "      <td>0.668657</td>\n",
       "      <td>0.628560</td>\n",
       "      <td>0.412371</td>\n",
       "      <td>0.285905</td>\n",
       "    </tr>\n",
       "    <tr>\n",
       "      <th>198</th>\n",
       "      <td>0.529412</td>\n",
       "      <td>0.358209</td>\n",
       "      <td>0.644638</td>\n",
       "      <td>0.731959</td>\n",
       "      <td>0.654256</td>\n",
       "    </tr>\n",
       "    <tr>\n",
       "      <th>199</th>\n",
       "      <td>0.843529</td>\n",
       "      <td>0.582090</td>\n",
       "      <td>0.480038</td>\n",
       "      <td>0.690722</td>\n",
       "      <td>1.000000</td>\n",
       "    </tr>\n",
       "  </tbody>\n",
       "</table>\n",
       "<p>200 rows × 5 columns</p>\n",
       "</div>"
      ],
      "text/plain": [
       "     Porosity (%)  Acoustic impedance (kg/m2s*10^6)  Brittleness Ratio  \\\n",
       "0        0.325294                          0.453731           0.960076   \n",
       "1        0.342941                          0.579104           0.480038   \n",
       "2        0.439412                          0.814925           0.842894   \n",
       "3        0.654118                          0.402985           0.393378   \n",
       "4        0.645294                          0.567164           0.000000   \n",
       "..            ...                               ...                ...   \n",
       "195      0.317647                          0.504478           0.766317   \n",
       "196      0.672941                          0.626866           0.454830   \n",
       "197      0.327647                          0.668657           0.628560   \n",
       "198      0.529412                          0.358209           0.644638   \n",
       "199      0.843529                          0.582090           0.480038   \n",
       "\n",
       "     Vitrinite Reflectance (%)  Aroot(K)  \n",
       "0                     0.711340  0.451776  \n",
       "1                     0.489691  0.319177  \n",
       "2                     0.922680  0.477932  \n",
       "3                     0.489691  0.656690  \n",
       "4                     0.500000  0.285149  \n",
       "..                         ...       ...  \n",
       "195                   0.582474  0.382052  \n",
       "196                   0.592784  0.767007  \n",
       "197                   0.412371  0.285905  \n",
       "198                   0.731959  0.654256  \n",
       "199                   0.690722  1.000000  \n",
       "\n",
       "[200 rows x 5 columns]"
      ]
     },
     "execution_count": 7,
     "metadata": {},
     "output_type": "execute_result"
    }
   ],
   "source": [
    "df_new=df[[ \"Porosity (%)\" , \"Acoustic impedance (kg/m2s*10^6)\", \"Brittleness Ratio\",\"Vitrinite Reflectance (%)\",\"Aroot(K)\" ]]\n",
    "from sklearn.preprocessing import MinMaxScaler\n",
    "normalizer= MinMaxScaler(feature_range=(0,1))\n",
    "df_scaled=normalizer.fit_transform(df_new)\n",
    "df_scaled=pd.DataFrame(df_scaled,columns=[ \"Porosity (%)\" , \"Acoustic impedance (kg/m2s*10^6)\", \"Brittleness Ratio\",\"Vitrinite Reflectance (%)\" ,\"Aroot(K)\"])\n",
    "df_scaled"
   ]
  },
  {
   "cell_type": "code",
   "execution_count": 9,
   "id": "human-paris",
   "metadata": {},
   "outputs": [],
   "source": [
    "X=df_scaled[[ \"Porosity (%)\" , \"Acoustic impedance (kg/m2s*10^6)\", \"Brittleness Ratio\",\"Vitrinite Reflectance (%)\" ]]\n",
    "Y=df_scaled[\"Aroot(K)\"]"
   ]
  },
  {
   "cell_type": "code",
   "execution_count": 10,
   "id": "brilliant-netscape",
   "metadata": {},
   "outputs": [],
   "source": [
    "from sklearn.model_selection import train_test_split\n",
    "x_train,x_test,y_train,y_test=train_test_split(X,Y,test_size=.3)\n",
    "\n"
   ]
  },
  {
   "cell_type": "code",
   "execution_count": 11,
   "id": "intense-tender",
   "metadata": {},
   "outputs": [
    {
     "data": {
      "text/plain": [
       "LinearRegression()"
      ]
     },
     "execution_count": 11,
     "metadata": {},
     "output_type": "execute_result"
    }
   ],
   "source": [
    "from sklearn.linear_model import LinearRegression\n",
    "lr=LinearRegression()\n",
    "lr.fit(x_train,y_train)"
   ]
  },
  {
   "cell_type": "code",
   "execution_count": 13,
   "id": "acute-identifier",
   "metadata": {},
   "outputs": [
    {
     "data": {
      "text/plain": [
       "-0.3386527806976637"
      ]
     },
     "execution_count": 13,
     "metadata": {},
     "output_type": "execute_result"
    }
   ],
   "source": [
    "lr.intercept_"
   ]
  },
  {
   "cell_type": "code",
   "execution_count": 14,
   "id": "continuous-compensation",
   "metadata": {},
   "outputs": [
    {
     "data": {
      "text/plain": [
       "array([ 1.14282748, -0.1243056 ,  0.45241544,  0.17722542])"
      ]
     },
     "execution_count": 14,
     "metadata": {},
     "output_type": "execute_result"
    }
   ],
   "source": [
    "lr.coef_"
   ]
  },
  {
   "cell_type": "code",
   "execution_count": 15,
   "id": "stretch-conservative",
   "metadata": {},
   "outputs": [],
   "source": [
    "y_pred=lr.predict(x_test)"
   ]
  },
  {
   "cell_type": "markdown",
   "id": "bridal-proposition",
   "metadata": {},
   "source": [
    "# now  , evaluating the model "
   ]
  },
  {
   "cell_type": "code",
   "execution_count": 16,
   "id": "awful-moderator",
   "metadata": {},
   "outputs": [
    {
     "name": "stderr",
     "output_type": "stream",
     "text": [
      "c:\\users\\ae504\\appdata\\local\\programs\\python\\python38\\lib\\site-packages\\seaborn\\_decorators.py:36: FutureWarning: Pass the following variables as keyword args: x, y. From version 0.12, the only valid positional argument will be `data`, and passing other arguments without an explicit keyword will result in an error or misinterpretation.\n",
      "  warnings.warn(\n"
     ]
    },
    {
     "data": {
      "image/png": "[encoded data removed]",
      "text/plain": [
       "<Figure size 720x720 with 1 Axes>"
      ]
     },
     "metadata": {
      "needs_background": "light"
     },
     "output_type": "display_data"
    }
   ],
   "source": [
    "plt.figure(figsize=(10,10))\n",
    "plt.title(\"Y_test Vs T_pred\")\n",
    "sns.scatterplot(y_test,y_pred,color=\"blue\")\n",
    "plt.show()"
   ]
  },
  {
   "cell_type": "code",
   "execution_count": 18,
   "id": "formal-calculator",
   "metadata": {},
   "outputs": [
    {
     "data": {
      "text/plain": [
       "0.9094553613037506"
      ]
     },
     "execution_count": 18,
     "metadata": {},
     "output_type": "execute_result"
    }
   ],
   "source": [
    "from sklearn.metrics import r2_score\n",
    "r2_score(y_test,y_pred)"
   ]
  },
  {
   "cell_type": "code",
   "execution_count": 42,
   "id": "satisfactory-focus",
   "metadata": {
    "scrolled": true
   },
   "outputs": [
    {
     "data": {
      "text/plain": [
       "XGBRegressor(base_score=0.5, booster='gbtree', colsample_bylevel=1,\n",
       "             colsample_bynode=1, colsample_bytree=1, gamma=0.15, gpu_id=-1,\n",
       "             importance_type='gain', interaction_constraints='',\n",
       "             learning_rate=0.1, max_delta_step=0, max_depth=6,\n",
       "             min_child_weight=1, missing=nan, monotone_constraints='()',\n",
       "             n_estimators=1000, n_jobs=4, num_parallel_tree=1, random_state=0,\n",
       "             reg_alpha=0, reg_lambda=1, scale_pos_weight=1, subsample=1,\n",
       "             tree_method='exact', validate_parameters=1, verbosity=None)"
      ]
     },
     "execution_count": 42,
     "metadata": {},
     "output_type": "execute_result"
    }
   ],
   "source": [
    "from xgboost import XGBRegressor\n",
    "xg=XGBRegressor(n_estimators=1000,learning_rate=.1,n_jobs=4,random_state=0,gamma=.15)\n",
    "xg.fit(x_train,y_train)"
   ]
  },
  {
   "cell_type": "code",
   "execution_count": 43,
   "id": "growing-amino",
   "metadata": {},
   "outputs": [],
   "source": [
    "xg_pred=xg.predict(x_test)"
   ]
  },
  {
   "cell_type": "code",
   "execution_count": 44,
   "id": "enclosed-efficiency",
   "metadata": {},
   "outputs": [
    {
     "name": "stdout",
     "output_type": "stream",
     "text": [
      "MAE : 0.06649074363038984\n",
      "MSE : 0.008328291698605016\n",
      "RMSE : 0.25785799120909525\n"
     ]
    }
   ],
   "source": [
    "print(f\"MAE : {mean_absolute_error(y_test,xg_pred)}\")\n",
    "print(f\"MSE : {mean_squared_error(y_test,xg_pred)}\")\n",
    "print(f\"RMSE : {np.sqrt(mean_absolute_error(y_test,xg_pred))}\")"
   ]
  },
  {
   "cell_type": "code",
   "execution_count": 45,
   "id": "floral-pathology",
   "metadata": {},
   "outputs": [
    {
     "name": "stdout",
     "output_type": "stream",
     "text": [
      "MAE : 0.042179708495351034\n",
      "MSE : 0.003663694861370414\n",
      "RMSE : 0.2053769911537099\n"
     ]
    }
   ],
   "source": [
    "from sklearn.metrics import mean_absolute_error,mean_squared_error\n",
    "print(f\"MAE : {mean_absolute_error(y_test,y_pred)}\")\n",
    "print(f\"MSE : {mean_squared_error(y_test,y_pred)}\")\n",
    "print(f\"RMSE : {np.sqrt(mean_absolute_error(y_test,y_pred))}\")"
   ]
  },
  {
   "cell_type": "code",
   "execution_count": 19,
   "id": "martial-velvet",
   "metadata": {},
   "outputs": [
    {
     "data": {
      "text/plain": [
       "<seaborn.axisgrid.FacetGrid at 0x22c2353ba60>"
      ]
     },
     "execution_count": 19,
     "metadata": {},
     "output_type": "execute_result"
    },
    {
     "data": {
      "text/plain": [
       "<Figure size 432x288 with 0 Axes>"
      ]
     },
     "metadata": {},
     "output_type": "display_data"
    },
    {
     "data": {
      "image/png": "[encoded data removed]",
      "text/plain": [
       "<Figure size 360x360 with 1 Axes>"
      ]
     },
     "metadata": {
      "needs_background": "light"
     },
     "output_type": "display_data"
    }
   ],
   "source": [
    "plt.figure()\n",
    "sns.displot(y_test-y_pred,kde=True)"
   ]
  },
  {
   "cell_type": "markdown",
   "id": "twenty-dependence",
   "metadata": {},
   "source": [
    "# <span style=\"color:red\">One-variable-at-a-time sensitivity analysis"
   ]
  },
  {
   "cell_type": "markdown",
   "id": "tamil-relations",
   "metadata": {},
   "source": [
    "- technique to see the effect of each feature on the target variable\n",
    "- each feature is selected and cahngeing its value while the other features remans constant [ the average value of the set ]\n",
    "- it is necessary that when chaning the variables it does'nt exceed the range of the set.( min<= value <= max ) of the set, as the scaling doesn't change "
   ]
  },
  {
   "cell_type": "code",
   "execution_count": 24,
   "id": "mental-convertible",
   "metadata": {},
   "outputs": [],
   "source": [
    "# import the data of sensitivity analysis\n",
    "df_sen=pd.read_excel(\"D:/Programming/DATA - SCIENCE/oil_data/Chapter 5/Multi-linear regression/Chapter5_Geologic_Sensitivity_DataSet.xlsx\")"
   ]
  },
  {
   "cell_type": "code",
   "execution_count": 25,
   "id": "humanitarian-sigma",
   "metadata": {},
   "outputs": [
    {
     "data": {
      "text/html": [
       "<div>\n",
       "<style scoped>\n",
       "    .dataframe tbody tr th:only-of-type {\n",
       "        vertical-align: middle;\n",
       "    }\n",
       "\n",
       "    .dataframe tbody tr th {\n",
       "        vertical-align: top;\n",
       "    }\n",
       "\n",
       "    .dataframe thead th {\n",
       "        text-align: right;\n",
       "    }\n",
       "</style>\n",
       "<table border=\"1\" class=\"dataframe\">\n",
       "  <thead>\n",
       "    <tr style=\"text-align: right;\">\n",
       "      <th></th>\n",
       "      <th>Porosity (%)</th>\n",
       "      <th>Acoustic impedance (kg/m2s*10^6)</th>\n",
       "      <th>Brittleness Ratio</th>\n",
       "      <th>Vitrinite Reflectance (%)</th>\n",
       "      <th>Aroot(K)</th>\n",
       "    </tr>\n",
       "  </thead>\n",
       "  <tbody>\n",
       "    <tr>\n",
       "      <th>0</th>\n",
       "      <td>4.5</td>\n",
       "      <td>3.25</td>\n",
       "      <td>59</td>\n",
       "      <td>1.50</td>\n",
       "      <td>50</td>\n",
       "    </tr>\n",
       "    <tr>\n",
       "      <th>1</th>\n",
       "      <td>5.5</td>\n",
       "      <td>3.25</td>\n",
       "      <td>59</td>\n",
       "      <td>1.50</td>\n",
       "      <td>50</td>\n",
       "    </tr>\n",
       "    <tr>\n",
       "      <th>2</th>\n",
       "      <td>6.5</td>\n",
       "      <td>3.25</td>\n",
       "      <td>59</td>\n",
       "      <td>1.50</td>\n",
       "      <td>50</td>\n",
       "    </tr>\n",
       "    <tr>\n",
       "      <th>3</th>\n",
       "      <td>7.5</td>\n",
       "      <td>3.25</td>\n",
       "      <td>59</td>\n",
       "      <td>1.50</td>\n",
       "      <td>50</td>\n",
       "    </tr>\n",
       "    <tr>\n",
       "      <th>4</th>\n",
       "      <td>8.5</td>\n",
       "      <td>3.25</td>\n",
       "      <td>59</td>\n",
       "      <td>1.50</td>\n",
       "      <td>50</td>\n",
       "    </tr>\n",
       "    <tr>\n",
       "      <th>...</th>\n",
       "      <td>...</td>\n",
       "      <td>...</td>\n",
       "      <td>...</td>\n",
       "      <td>...</td>\n",
       "      <td>...</td>\n",
       "    </tr>\n",
       "    <tr>\n",
       "      <th>64</th>\n",
       "      <td>10.5</td>\n",
       "      <td>3.25</td>\n",
       "      <td>59</td>\n",
       "      <td>1.54</td>\n",
       "      <td>50</td>\n",
       "    </tr>\n",
       "    <tr>\n",
       "      <th>65</th>\n",
       "      <td>10.5</td>\n",
       "      <td>3.25</td>\n",
       "      <td>59</td>\n",
       "      <td>1.74</td>\n",
       "      <td>50</td>\n",
       "    </tr>\n",
       "    <tr>\n",
       "      <th>66</th>\n",
       "      <td>10.5</td>\n",
       "      <td>3.25</td>\n",
       "      <td>59</td>\n",
       "      <td>1.94</td>\n",
       "      <td>50</td>\n",
       "    </tr>\n",
       "    <tr>\n",
       "      <th>67</th>\n",
       "      <td>10.5</td>\n",
       "      <td>3.25</td>\n",
       "      <td>59</td>\n",
       "      <td>2.14</td>\n",
       "      <td>50</td>\n",
       "    </tr>\n",
       "    <tr>\n",
       "      <th>68</th>\n",
       "      <td>10.5</td>\n",
       "      <td>3.25</td>\n",
       "      <td>59</td>\n",
       "      <td>2.34</td>\n",
       "      <td>50</td>\n",
       "    </tr>\n",
       "  </tbody>\n",
       "</table>\n",
       "<p>69 rows × 5 columns</p>\n",
       "</div>"
      ],
      "text/plain": [
       "    Porosity (%)  Acoustic impedance (kg/m2s*10^6)  Brittleness Ratio  \\\n",
       "0            4.5                              3.25                 59   \n",
       "1            5.5                              3.25                 59   \n",
       "2            6.5                              3.25                 59   \n",
       "3            7.5                              3.25                 59   \n",
       "4            8.5                              3.25                 59   \n",
       "..           ...                               ...                ...   \n",
       "64          10.5                              3.25                 59   \n",
       "65          10.5                              3.25                 59   \n",
       "66          10.5                              3.25                 59   \n",
       "67          10.5                              3.25                 59   \n",
       "68          10.5                              3.25                 59   \n",
       "\n",
       "    Vitrinite Reflectance (%)  Aroot(K)  \n",
       "0                        1.50        50  \n",
       "1                        1.50        50  \n",
       "2                        1.50        50  \n",
       "3                        1.50        50  \n",
       "4                        1.50        50  \n",
       "..                        ...       ...  \n",
       "64                       1.54        50  \n",
       "65                       1.74        50  \n",
       "66                       1.94        50  \n",
       "67                       2.14        50  \n",
       "68                       2.34        50  \n",
       "\n",
       "[69 rows x 5 columns]"
      ]
     },
     "execution_count": 25,
     "metadata": {},
     "output_type": "execute_result"
    }
   ],
   "source": [
    "df_sen"
   ]
  },
  {
   "cell_type": "markdown",
   "id": "editorial-midwest",
   "metadata": {},
   "source": [
    "## the range of each feature test\n",
    "- 0:12 -> the porosity\n",
    "- 13:49 -> acoustic impedence\n",
    "- 50: 59 -> BR\n",
    "-  60 : 69"
   ]
  },
  {
   "cell_type": "code",
   "execution_count": 26,
   "id": "logical-possible",
   "metadata": {},
   "outputs": [],
   "source": [
    "df_sen_scaled=normalizer.transform(df_sen)"
   ]
  },
  {
   "cell_type": "code",
   "execution_count": 28,
   "id": "transparent-statement",
   "metadata": {},
   "outputs": [],
   "source": [
    "df_sen_final=pd.DataFrame(df_sen_scaled,columns=df_sen.columns)"
   ]
  },
  {
   "cell_type": "code",
   "execution_count": 29,
   "id": "ideal-michigan",
   "metadata": {},
   "outputs": [
    {
     "data": {
      "text/html": [
       "<div>\n",
       "<style scoped>\n",
       "    .dataframe tbody tr th:only-of-type {\n",
       "        vertical-align: middle;\n",
       "    }\n",
       "\n",
       "    .dataframe tbody tr th {\n",
       "        vertical-align: top;\n",
       "    }\n",
       "\n",
       "    .dataframe thead th {\n",
       "        text-align: right;\n",
       "    }\n",
       "</style>\n",
       "<table border=\"1\" class=\"dataframe\">\n",
       "  <thead>\n",
       "    <tr style=\"text-align: right;\">\n",
       "      <th></th>\n",
       "      <th>Porosity (%)</th>\n",
       "      <th>Acoustic impedance (kg/m2s*10^6)</th>\n",
       "      <th>Brittleness Ratio</th>\n",
       "      <th>Vitrinite Reflectance (%)</th>\n",
       "      <th>Aroot(K)</th>\n",
       "    </tr>\n",
       "  </thead>\n",
       "  <tbody>\n",
       "    <tr>\n",
       "      <th>0</th>\n",
       "      <td>-0.007143</td>\n",
       "      <td>0.499864</td>\n",
       "      <td>0.52087</td>\n",
       "      <td>0.487113</td>\n",
       "      <td>0.48383</td>\n",
       "    </tr>\n",
       "    <tr>\n",
       "      <th>1</th>\n",
       "      <td>0.076891</td>\n",
       "      <td>0.499864</td>\n",
       "      <td>0.52087</td>\n",
       "      <td>0.487113</td>\n",
       "      <td>0.48383</td>\n",
       "    </tr>\n",
       "    <tr>\n",
       "      <th>2</th>\n",
       "      <td>0.160924</td>\n",
       "      <td>0.499864</td>\n",
       "      <td>0.52087</td>\n",
       "      <td>0.487113</td>\n",
       "      <td>0.48383</td>\n",
       "    </tr>\n",
       "    <tr>\n",
       "      <th>3</th>\n",
       "      <td>0.244958</td>\n",
       "      <td>0.499864</td>\n",
       "      <td>0.52087</td>\n",
       "      <td>0.487113</td>\n",
       "      <td>0.48383</td>\n",
       "    </tr>\n",
       "    <tr>\n",
       "      <th>4</th>\n",
       "      <td>0.328992</td>\n",
       "      <td>0.499864</td>\n",
       "      <td>0.52087</td>\n",
       "      <td>0.487113</td>\n",
       "      <td>0.48383</td>\n",
       "    </tr>\n",
       "    <tr>\n",
       "      <th>...</th>\n",
       "      <td>...</td>\n",
       "      <td>...</td>\n",
       "      <td>...</td>\n",
       "      <td>...</td>\n",
       "      <td>...</td>\n",
       "    </tr>\n",
       "    <tr>\n",
       "      <th>64</th>\n",
       "      <td>0.497059</td>\n",
       "      <td>0.499864</td>\n",
       "      <td>0.52087</td>\n",
       "      <td>0.512887</td>\n",
       "      <td>0.48383</td>\n",
       "    </tr>\n",
       "    <tr>\n",
       "      <th>65</th>\n",
       "      <td>0.497059</td>\n",
       "      <td>0.499864</td>\n",
       "      <td>0.52087</td>\n",
       "      <td>0.641753</td>\n",
       "      <td>0.48383</td>\n",
       "    </tr>\n",
       "    <tr>\n",
       "      <th>66</th>\n",
       "      <td>0.497059</td>\n",
       "      <td>0.499864</td>\n",
       "      <td>0.52087</td>\n",
       "      <td>0.770619</td>\n",
       "      <td>0.48383</td>\n",
       "    </tr>\n",
       "    <tr>\n",
       "      <th>67</th>\n",
       "      <td>0.497059</td>\n",
       "      <td>0.499864</td>\n",
       "      <td>0.52087</td>\n",
       "      <td>0.899485</td>\n",
       "      <td>0.48383</td>\n",
       "    </tr>\n",
       "    <tr>\n",
       "      <th>68</th>\n",
       "      <td>0.497059</td>\n",
       "      <td>0.499864</td>\n",
       "      <td>0.52087</td>\n",
       "      <td>1.028351</td>\n",
       "      <td>0.48383</td>\n",
       "    </tr>\n",
       "  </tbody>\n",
       "</table>\n",
       "<p>69 rows × 5 columns</p>\n",
       "</div>"
      ],
      "text/plain": [
       "    Porosity (%)  Acoustic impedance (kg/m2s*10^6)  Brittleness Ratio  \\\n",
       "0      -0.007143                          0.499864            0.52087   \n",
       "1       0.076891                          0.499864            0.52087   \n",
       "2       0.160924                          0.499864            0.52087   \n",
       "3       0.244958                          0.499864            0.52087   \n",
       "4       0.328992                          0.499864            0.52087   \n",
       "..           ...                               ...                ...   \n",
       "64      0.497059                          0.499864            0.52087   \n",
       "65      0.497059                          0.499864            0.52087   \n",
       "66      0.497059                          0.499864            0.52087   \n",
       "67      0.497059                          0.499864            0.52087   \n",
       "68      0.497059                          0.499864            0.52087   \n",
       "\n",
       "    Vitrinite Reflectance (%)  Aroot(K)  \n",
       "0                    0.487113   0.48383  \n",
       "1                    0.487113   0.48383  \n",
       "2                    0.487113   0.48383  \n",
       "3                    0.487113   0.48383  \n",
       "4                    0.487113   0.48383  \n",
       "..                        ...       ...  \n",
       "64                   0.512887   0.48383  \n",
       "65                   0.641753   0.48383  \n",
       "66                   0.770619   0.48383  \n",
       "67                   0.899485   0.48383  \n",
       "68                   1.028351   0.48383  \n",
       "\n",
       "[69 rows x 5 columns]"
      ]
     },
     "execution_count": 29,
     "metadata": {},
     "output_type": "execute_result"
    }
   ],
   "source": [
    "df_sen_final"
   ]
  },
  {
   "cell_type": "code",
   "execution_count": 31,
   "id": "verified-cleaners",
   "metadata": {},
   "outputs": [],
   "source": [
    "X=df_sen_final.drop(\"Aroot(K)\",axis=1)\n",
    "Y=df_sen_final[\"Aroot(K)\"]"
   ]
  },
  {
   "cell_type": "code",
   "execution_count": 33,
   "id": "authentic-helena",
   "metadata": {},
   "outputs": [],
   "source": [
    "Y_pred=lr.predict(X)"
   ]
  },
  {
   "cell_type": "code",
   "execution_count": 34,
   "id": "chinese-relaxation",
   "metadata": {},
   "outputs": [
    {
     "data": {
      "text/plain": [
       "array([-9.62677067e-02,  1.92325728e-04,  9.66523581e-02,  1.93112391e-01,\n",
       "        2.89572423e-01,  3.86032455e-01,  4.82492488e-01,  5.78952520e-01,\n",
       "        6.75412552e-01,  7.71872585e-01,  8.68332617e-01,  9.64792650e-01,\n",
       "        1.06125268e+00,  5.42165555e-01,  5.38939984e-01,  5.35714413e-01,\n",
       "        5.32488842e-01,  5.29263270e-01,  5.26037699e-01,  5.22812128e-01,\n",
       "        5.19586557e-01,  5.16360986e-01,  5.13135414e-01,  5.09909843e-01,\n",
       "        5.06684272e-01,  5.03458701e-01,  5.00233129e-01,  4.97007558e-01,\n",
       "        4.93781987e-01,  4.90556416e-01,  4.87330845e-01,  4.84105273e-01,\n",
       "        4.80879702e-01,  4.77654131e-01,  4.74428560e-01,  4.71202988e-01,\n",
       "        4.67977417e-01,  4.64751846e-01,  4.61526275e-01,  4.58300703e-01,\n",
       "        4.55075132e-01,  4.51849561e-01,  4.48623990e-01,  4.45398419e-01,\n",
       "        4.42172847e-01,  4.38947276e-01,  4.35721705e-01,  4.32496134e-01,\n",
       "        4.29270562e-01,  4.26044991e-01,  2.35980644e-01,  2.89570175e-01,\n",
       "        3.43159707e-01,  3.96749238e-01,  4.50338769e-01,  5.03928300e-01,\n",
       "        5.57517831e-01,  6.11107362e-01,  6.64696894e-01,  7.18286425e-01,\n",
       "        3.86400122e-01,  4.11687586e-01,  4.36975051e-01,  4.62262516e-01,\n",
       "        4.87549981e-01,  5.12837445e-01,  5.38124910e-01,  5.63412375e-01,\n",
       "        5.88699840e-01])"
      ]
     },
     "execution_count": 34,
     "metadata": {},
     "output_type": "execute_result"
    }
   ],
   "source": [
    "Y_pred"
   ]
  },
  {
   "cell_type": "markdown",
   "id": "quality-pound",
   "metadata": {},
   "source": [
    "## note:\n",
    "## this Y_pred is normalized, so we get the actual values of them"
   ]
  },
  {
   "cell_type": "code",
   "execution_count": 37,
   "id": "instant-instrumentation",
   "metadata": {},
   "outputs": [
    {
     "data": {
      "text/plain": [
       "24.43785618"
      ]
     },
     "execution_count": 37,
     "metadata": {},
     "output_type": "execute_result"
    }
   ],
   "source": [
    "m=df[\"Aroot(K)\"].min()\n",
    "m"
   ]
  },
  {
   "cell_type": "code",
   "execution_count": 39,
   "id": "north-liability",
   "metadata": {},
   "outputs": [
    {
     "data": {
      "text/plain": [
       "77.27073327"
      ]
     },
     "execution_count": 39,
     "metadata": {},
     "output_type": "execute_result"
    }
   ],
   "source": [
    "M=df[\"Aroot(K)\"].max()\n",
    "M"
   ]
  },
  {
   "cell_type": "code",
   "execution_count": 42,
   "id": "frozen-engine",
   "metadata": {},
   "outputs": [
    {
     "data": {
      "text/plain": [
       "52.83287709"
      ]
     },
     "execution_count": 42,
     "metadata": {},
     "output_type": "execute_result"
    }
   ],
   "source": [
    "rang= M-m\n",
    "rang"
   ]
  },
  {
   "cell_type": "markdown",
   "id": "civil-airline",
   "metadata": {},
   "source": [
    "### the normalizing formula is x* =x-min(x) / max(x)-min(x)"
   ]
  },
  {
   "cell_type": "code",
   "execution_count": 44,
   "id": "previous-graph",
   "metadata": {},
   "outputs": [],
   "source": [
    "Y_data=pd.DataFrame(Y_pred,columns=[\"predited\"])"
   ]
  },
  {
   "cell_type": "code",
   "execution_count": 49,
   "id": "confident-essay",
   "metadata": {},
   "outputs": [
    {
     "data": {
      "text/html": [
       "<div>\n",
       "<style scoped>\n",
       "    .dataframe tbody tr th:only-of-type {\n",
       "        vertical-align: middle;\n",
       "    }\n",
       "\n",
       "    .dataframe tbody tr th {\n",
       "        vertical-align: top;\n",
       "    }\n",
       "\n",
       "    .dataframe thead th {\n",
       "        text-align: right;\n",
       "    }\n",
       "</style>\n",
       "<table border=\"1\" class=\"dataframe\">\n",
       "  <thead>\n",
       "    <tr style=\"text-align: right;\">\n",
       "      <th></th>\n",
       "      <th>predited</th>\n",
       "    </tr>\n",
       "  </thead>\n",
       "  <tbody>\n",
       "    <tr>\n",
       "      <th>0</th>\n",
       "      <td>19.351756</td>\n",
       "    </tr>\n",
       "    <tr>\n",
       "      <th>1</th>\n",
       "      <td>24.448017</td>\n",
       "    </tr>\n",
       "    <tr>\n",
       "      <th>2</th>\n",
       "      <td>29.544278</td>\n",
       "    </tr>\n",
       "    <tr>\n",
       "      <th>3</th>\n",
       "      <td>34.640539</td>\n",
       "    </tr>\n",
       "    <tr>\n",
       "      <th>4</th>\n",
       "      <td>39.736800</td>\n",
       "    </tr>\n",
       "    <tr>\n",
       "      <th>...</th>\n",
       "      <td>...</td>\n",
       "    </tr>\n",
       "    <tr>\n",
       "      <th>64</th>\n",
       "      <td>50.196524</td>\n",
       "    </tr>\n",
       "    <tr>\n",
       "      <th>65</th>\n",
       "      <td>51.532534</td>\n",
       "    </tr>\n",
       "    <tr>\n",
       "      <th>66</th>\n",
       "      <td>52.868543</td>\n",
       "    </tr>\n",
       "    <tr>\n",
       "      <th>67</th>\n",
       "      <td>54.204553</td>\n",
       "    </tr>\n",
       "    <tr>\n",
       "      <th>68</th>\n",
       "      <td>55.540562</td>\n",
       "    </tr>\n",
       "  </tbody>\n",
       "</table>\n",
       "<p>69 rows × 1 columns</p>\n",
       "</div>"
      ],
      "text/plain": [
       "     predited\n",
       "0   19.351756\n",
       "1   24.448017\n",
       "2   29.544278\n",
       "3   34.640539\n",
       "4   39.736800\n",
       "..        ...\n",
       "64  50.196524\n",
       "65  51.532534\n",
       "66  52.868543\n",
       "67  54.204553\n",
       "68  55.540562\n",
       "\n",
       "[69 rows x 1 columns]"
      ]
     },
     "execution_count": 49,
     "metadata": {},
     "output_type": "execute_result"
    }
   ],
   "source": [
    "last=Y_data.apply(lambda x: (x * rang )+ m)\n",
    "last"
   ]
  },
  {
   "cell_type": "markdown",
   "id": "living-parameter",
   "metadata": {},
   "source": [
    "## now, let's plot the relations"
   ]
  },
  {
   "cell_type": "code",
   "execution_count": 55,
   "id": "upper-hybrid",
   "metadata": {},
   "outputs": [
    {
     "data": {
      "image/png": "[encoded data removed]",
      "text/plain": [
       "<Figure size 432x288 with 1 Axes>"
      ]
     },
     "metadata": {
      "needs_background": "light"
     },
     "output_type": "display_data"
    }
   ],
   "source": [
    "plt.figure()\n",
    "xx=np.linspace(4.5,16.5,13)\n",
    "plt.scatter(xx,last.iloc[0:13])\n",
    "plt.title(\"the porosity vs the target\")\n",
    "plt.show()"
   ]
  },
  {
   "cell_type": "code",
   "execution_count": 62,
   "id": "sized-contribution",
   "metadata": {},
   "outputs": [
    {
     "data": {
      "text/plain": [
       "Text(0, 0.5, 'Aroot(K)')"
      ]
     },
     "execution_count": 62,
     "metadata": {},
     "output_type": "execute_result"
    },
    {
     "data": {
      "image/png": "[encoded data removed]",
      "text/plain": [
       "<Figure size 576x360 with 1 Axes>"
      ]
     },
     "metadata": {
      "needs_background": "light"
     },
     "output_type": "display_data"
    }
   ],
   "source": [
    "plt.figure(figsize=(8,5))\n",
    "AI=np.linspace(1.4,5,37)\n",
    "plt.scatter(AI,last.iloc[13:50])\n",
    "plt.title('AI Impact on Aroot(K) Sensitivity')\n",
    "plt.xlabel('AI')\n",
    "plt.ylabel('Aroot(K)')"
   ]
  },
  {
   "cell_type": "markdown",
   "id": "seasonal-amino",
   "metadata": {},
   "source": [
    "### and so on"
   ]
  },
  {
   "cell_type": "code",
   "execution_count": 22,
   "id": "experimental-phoenix",
   "metadata": {},
   "outputs": [],
   "source": [
    "from sklearn.linear_model import Lasso"
   ]
  },
  {
   "cell_type": "code",
   "execution_count": 40,
   "id": "comparative-amsterdam",
   "metadata": {},
   "outputs": [],
   "source": [
    "X=df_scaled[[ \"Porosity (%)\" , \"Acoustic impedance (kg/m2s*10^6)\", \"Brittleness Ratio\",\"Vitrinite Reflectance (%)\" ]]\n",
    "Y=df_scaled[\"Aroot(K)\"]\n",
    "x_train,x_test,y_train,y_test=train_test_split(X,Y,test_size=.3)"
   ]
  },
  {
   "cell_type": "code",
   "execution_count": 59,
   "id": "infrared-coast",
   "metadata": {},
   "outputs": [
    {
     "name": "stderr",
     "output_type": "stream",
     "text": [
      "<ipython-input-59-f7fa5dfcf84e>:2: UserWarning: With alpha=0, this algorithm does not converge well. You are advised to use the LinearRegression estimator\n",
      "  l.fit(x_train,y_train)\n",
      "c:\\users\\ae504\\appdata\\local\\programs\\python\\python38\\lib\\site-packages\\sklearn\\linear_model\\_coordinate_descent.py:530: UserWarning: Coordinate descent with no regularization may lead to unexpected results and is discouraged.\n",
      "  model = cd_fast.enet_coordinate_descent(\n",
      "c:\\users\\ae504\\appdata\\local\\programs\\python\\python38\\lib\\site-packages\\sklearn\\linear_model\\_coordinate_descent.py:530: ConvergenceWarning: Objective did not converge. You might want to increase the number of iterations. Duality gap: 0.20194448491115918, tolerance: 0.0005892599979074245\n",
      "  model = cd_fast.enet_coordinate_descent(\n"
     ]
    },
    {
     "data": {
      "text/plain": [
       "Lasso(alpha=0)"
      ]
     },
     "execution_count": 59,
     "metadata": {},
     "output_type": "execute_result"
    }
   ],
   "source": [
    "l=Lasso(alpha=0)\n",
    "l.fit(x_train,y_train)"
   ]
  },
  {
   "cell_type": "code",
   "execution_count": 60,
   "id": "rolled-result",
   "metadata": {},
   "outputs": [],
   "source": [
    "y_pred2=l.predict(x_test)"
   ]
  },
  {
   "cell_type": "code",
   "execution_count": 61,
   "id": "blocked-mitchell",
   "metadata": {},
   "outputs": [
    {
     "data": {
      "text/plain": [
       "0.9624663002883862"
      ]
     },
     "execution_count": 61,
     "metadata": {},
     "output_type": "execute_result"
    }
   ],
   "source": [
    "r2_score(y_test,y_pred2)"
   ]
  },
  {
   "cell_type": "code",
   "execution_count": 62,
   "id": "developing-coordination",
   "metadata": {},
   "outputs": [
    {
     "name": "stdout",
     "output_type": "stream",
     "text": [
      "MAE : 0.03399106802371496\n",
      "MSE : 0.002159890066485699\n",
      "RMSE : 0.1843666673336451\n"
     ]
    }
   ],
   "source": [
    "from sklearn.metrics import mean_absolute_error,mean_squared_error\n",
    "print(f\"MAE : {mean_absolute_error(y_test,y_pred2)}\")\n",
    "print(f\"MSE : {mean_squared_error(y_test,y_pred2)}\")\n",
    "print(f\"RMSE : {np.sqrt(mean_absolute_error(y_test,y_pred2))}\")"
   ]
  },
  {
   "cell_type": "code",
   "execution_count": 63,
   "id": "competent-project",
   "metadata": {},
   "outputs": [],
   "source": [
    "from sklearn.linear_model import Ridge"
   ]
  },
  {
   "cell_type": "code",
   "execution_count": 146,
   "id": "alpha-salad",
   "metadata": {},
   "outputs": [
    {
     "data": {
      "text/plain": [
       "Ridge(alpha=0.02564102564102555)"
      ]
     },
     "execution_count": 146,
     "metadata": {},
     "output_type": "execute_result"
    }
   ],
   "source": [
    "r=Ridge(alpha=0.02564102564102555)\n",
    "r.fit(x_train,y_train)"
   ]
  },
  {
   "cell_type": "code",
   "execution_count": 147,
   "id": "indie-neutral",
   "metadata": {},
   "outputs": [],
   "source": [
    "y_pred3=r.predict(x_test)"
   ]
  },
  {
   "cell_type": "code",
   "execution_count": 148,
   "id": "legitimate-cliff",
   "metadata": {},
   "outputs": [
    {
     "data": {
      "text/plain": [
       "0.9641457123754774"
      ]
     },
     "execution_count": 148,
     "metadata": {},
     "output_type": "execute_result"
    }
   ],
   "source": [
    "r2_score(y_test,y_pred3)"
   ]
  },
  {
   "cell_type": "code",
   "execution_count": 136,
   "id": "numeric-respect",
   "metadata": {},
   "outputs": [
    {
     "name": "stdout",
     "output_type": "stream",
     "text": [
      "MAE : 0.03302857448978262\n",
      "MSE : 0.0020632477020954406\n",
      "RMSE : 0.18173765292250976\n"
     ]
    }
   ],
   "source": [
    "from sklearn.metrics import mean_absolute_error,mean_squared_error\n",
    "print(f\"MAE : {mean_absolute_error(y_test,y_pred3)}\")\n",
    "print(f\"MSE : {mean_squared_error(y_test,y_pred3)}\")\n",
    "print(f\"RMSE : {np.sqrt(mean_absolute_error(y_test,y_pred3))}\")"
   ]
  },
  {
   "cell_type": "code",
   "execution_count": 164,
   "id": "together-colors",
   "metadata": {},
   "outputs": [],
   "source": [
    "from sklearn.model_selection import GridSearchCV\n",
    "params={\"alpha\":np.linspace(0,1,20)}\n",
    "r_g=GridSearchCV(l,params,cv=5,scoring=\"neg_root_mean_squared_error\")\n"
   ]
  },
  {
   "cell_type": "code",
   "execution_count": 165,
   "id": "received-selling",
   "metadata": {},
   "outputs": [
    {
     "name": "stderr",
     "output_type": "stream",
     "text": [
      "c:\\users\\ae504\\appdata\\local\\programs\\python\\python38\\lib\\site-packages\\sklearn\\model_selection\\_validation.py:598: UserWarning: With alpha=0, this algorithm does not converge well. You are advised to use the LinearRegression estimator\n",
      "  estimator.fit(X_train, y_train, **fit_params)\n",
      "c:\\users\\ae504\\appdata\\local\\programs\\python\\python38\\lib\\site-packages\\sklearn\\linear_model\\_coordinate_descent.py:530: UserWarning: Coordinate descent with no regularization may lead to unexpected results and is discouraged.\n",
      "  model = cd_fast.enet_coordinate_descent(\n",
      "c:\\users\\ae504\\appdata\\local\\programs\\python\\python38\\lib\\site-packages\\sklearn\\linear_model\\_coordinate_descent.py:530: ConvergenceWarning: Objective did not converge. You might want to increase the number of iterations. Duality gap: 0.17097066251295356, tolerance: 0.00044395895174334385\n",
      "  model = cd_fast.enet_coordinate_descent(\n",
      "c:\\users\\ae504\\appdata\\local\\programs\\python\\python38\\lib\\site-packages\\sklearn\\model_selection\\_validation.py:598: UserWarning: With alpha=0, this algorithm does not converge well. You are advised to use the LinearRegression estimator\n",
      "  estimator.fit(X_train, y_train, **fit_params)\n",
      "c:\\users\\ae504\\appdata\\local\\programs\\python\\python38\\lib\\site-packages\\sklearn\\linear_model\\_coordinate_descent.py:530: UserWarning: Coordinate descent with no regularization may lead to unexpected results and is discouraged.\n",
      "  model = cd_fast.enet_coordinate_descent(\n",
      "c:\\users\\ae504\\appdata\\local\\programs\\python\\python38\\lib\\site-packages\\sklearn\\linear_model\\_coordinate_descent.py:530: ConvergenceWarning: Objective did not converge. You might want to increase the number of iterations. Duality gap: 0.1763631257329577, tolerance: 0.000517058523286862\n",
      "  model = cd_fast.enet_coordinate_descent(\n",
      "c:\\users\\ae504\\appdata\\local\\programs\\python\\python38\\lib\\site-packages\\sklearn\\model_selection\\_validation.py:598: UserWarning: With alpha=0, this algorithm does not converge well. You are advised to use the LinearRegression estimator\n",
      "  estimator.fit(X_train, y_train, **fit_params)\n",
      "c:\\users\\ae504\\appdata\\local\\programs\\python\\python38\\lib\\site-packages\\sklearn\\linear_model\\_coordinate_descent.py:530: UserWarning: Coordinate descent with no regularization may lead to unexpected results and is discouraged.\n",
      "  model = cd_fast.enet_coordinate_descent(\n",
      "c:\\users\\ae504\\appdata\\local\\programs\\python\\python38\\lib\\site-packages\\sklearn\\linear_model\\_coordinate_descent.py:530: ConvergenceWarning: Objective did not converge. You might want to increase the number of iterations. Duality gap: 0.13109640395583214, tolerance: 0.00043882009686864747\n",
      "  model = cd_fast.enet_coordinate_descent(\n",
      "c:\\users\\ae504\\appdata\\local\\programs\\python\\python38\\lib\\site-packages\\sklearn\\model_selection\\_validation.py:598: UserWarning: With alpha=0, this algorithm does not converge well. You are advised to use the LinearRegression estimator\n",
      "  estimator.fit(X_train, y_train, **fit_params)\n",
      "c:\\users\\ae504\\appdata\\local\\programs\\python\\python38\\lib\\site-packages\\sklearn\\linear_model\\_coordinate_descent.py:530: UserWarning: Coordinate descent with no regularization may lead to unexpected results and is discouraged.\n",
      "  model = cd_fast.enet_coordinate_descent(\n",
      "c:\\users\\ae504\\appdata\\local\\programs\\python\\python38\\lib\\site-packages\\sklearn\\linear_model\\_coordinate_descent.py:530: ConvergenceWarning: Objective did not converge. You might want to increase the number of iterations. Duality gap: 0.1651134278842954, tolerance: 0.0004907111965079676\n",
      "  model = cd_fast.enet_coordinate_descent(\n",
      "c:\\users\\ae504\\appdata\\local\\programs\\python\\python38\\lib\\site-packages\\sklearn\\model_selection\\_validation.py:598: UserWarning: With alpha=0, this algorithm does not converge well. You are advised to use the LinearRegression estimator\n",
      "  estimator.fit(X_train, y_train, **fit_params)\n",
      "c:\\users\\ae504\\appdata\\local\\programs\\python\\python38\\lib\\site-packages\\sklearn\\linear_model\\_coordinate_descent.py:530: UserWarning: Coordinate descent with no regularization may lead to unexpected results and is discouraged.\n",
      "  model = cd_fast.enet_coordinate_descent(\n",
      "c:\\users\\ae504\\appdata\\local\\programs\\python\\python38\\lib\\site-packages\\sklearn\\linear_model\\_coordinate_descent.py:530: ConvergenceWarning: Objective did not converge. You might want to increase the number of iterations. Duality gap: 0.1583725160401963, tolerance: 0.0004614235060657601\n",
      "  model = cd_fast.enet_coordinate_descent(\n",
      "c:\\users\\ae504\\appdata\\local\\programs\\python\\python38\\lib\\site-packages\\sklearn\\model_selection\\_search.py:880: UserWarning: With alpha=0, this algorithm does not converge well. You are advised to use the LinearRegression estimator\n",
      "  self.best_estimator_.fit(X, y, **fit_params)\n",
      "c:\\users\\ae504\\appdata\\local\\programs\\python\\python38\\lib\\site-packages\\sklearn\\linear_model\\_coordinate_descent.py:530: UserWarning: Coordinate descent with no regularization may lead to unexpected results and is discouraged.\n",
      "  model = cd_fast.enet_coordinate_descent(\n",
      "c:\\users\\ae504\\appdata\\local\\programs\\python\\python38\\lib\\site-packages\\sklearn\\linear_model\\_coordinate_descent.py:530: ConvergenceWarning: Objective did not converge. You might want to increase the number of iterations. Duality gap: 0.20194448491115918, tolerance: 0.0005892599979074245\n",
      "  model = cd_fast.enet_coordinate_descent(\n"
     ]
    },
    {
     "data": {
      "text/plain": [
       "GridSearchCV(cv=5, estimator=Lasso(alpha=0),\n",
       "             param_grid={'alpha': array([0.        , 0.05263158, 0.10526316, 0.15789474, 0.21052632,\n",
       "       0.26315789, 0.31578947, 0.36842105, 0.42105263, 0.47368421,\n",
       "       0.52631579, 0.57894737, 0.63157895, 0.68421053, 0.73684211,\n",
       "       0.78947368, 0.84210526, 0.89473684, 0.94736842, 1.        ])},\n",
       "             scoring='neg_root_mean_squared_error')"
      ]
     },
     "execution_count": 165,
     "metadata": {},
     "output_type": "execute_result"
    }
   ],
   "source": [
    "r_g.fit(x_train,y_train)"
   ]
  },
  {
   "cell_type": "code",
   "execution_count": 166,
   "id": "alternative-glance",
   "metadata": {},
   "outputs": [
    {
     "data": {
      "text/plain": [
       "{'alpha': 0.0}"
      ]
     },
     "execution_count": 166,
     "metadata": {},
     "output_type": "execute_result"
    }
   ],
   "source": [
    "r_g.best_params_"
   ]
  },
  {
   "cell_type": "code",
   "execution_count": 167,
   "id": "basic-dutch",
   "metadata": {},
   "outputs": [
    {
     "data": {
      "text/plain": [
       "-0.054667679711683494"
      ]
     },
     "execution_count": 167,
     "metadata": {},
     "output_type": "execute_result"
    }
   ],
   "source": [
    "r_g.best_score_"
   ]
  },
  {
   "cell_type": "code",
   "execution_count": 168,
   "id": "useful-rental",
   "metadata": {},
   "outputs": [],
   "source": [
    "from sklearn.metrics import SCORERS"
   ]
  },
  {
   "cell_type": "code",
   "execution_count": 169,
   "id": "expected-forward",
   "metadata": {},
   "outputs": [
    {
     "data": {
      "text/plain": [
       "dict_keys(['explained_variance', 'r2', 'max_error', 'neg_median_absolute_error', 'neg_mean_absolute_error', 'neg_mean_absolute_percentage_error', 'neg_mean_squared_error', 'neg_mean_squared_log_error', 'neg_root_mean_squared_error', 'neg_mean_poisson_deviance', 'neg_mean_gamma_deviance', 'accuracy', 'top_k_accuracy', 'roc_auc', 'roc_auc_ovr', 'roc_auc_ovo', 'roc_auc_ovr_weighted', 'roc_auc_ovo_weighted', 'balanced_accuracy', 'average_precision', 'neg_log_loss', 'neg_brier_score', 'adjusted_rand_score', 'rand_score', 'homogeneity_score', 'completeness_score', 'v_measure_score', 'mutual_info_score', 'adjusted_mutual_info_score', 'normalized_mutual_info_score', 'fowlkes_mallows_score', 'precision', 'precision_macro', 'precision_micro', 'precision_samples', 'precision_weighted', 'recall', 'recall_macro', 'recall_micro', 'recall_samples', 'recall_weighted', 'f1', 'f1_macro', 'f1_micro', 'f1_samples', 'f1_weighted', 'jaccard', 'jaccard_macro', 'jaccard_micro', 'jaccard_samples', 'jaccard_weighted'])"
      ]
     },
     "execution_count": 169,
     "metadata": {},
     "output_type": "execute_result"
    }
   ],
   "source": [
    "SCORERS.keys()"
   ]
  },
  {
   "cell_type": "code",
   "execution_count": 170,
   "id": "requested-texture",
   "metadata": {},
   "outputs": [],
   "source": [
    "pred=r_g.predict(x_test)"
   ]
  },
  {
   "cell_type": "code",
   "execution_count": 171,
   "id": "pacific-darwin",
   "metadata": {},
   "outputs": [
    {
     "data": {
      "text/plain": [
       "0.9624663002883862"
      ]
     },
     "execution_count": 171,
     "metadata": {},
     "output_type": "execute_result"
    }
   ],
   "source": [
    "r2_score(y_test,pred)"
   ]
  },
  {
   "cell_type": "code",
   "execution_count": 172,
   "id": "wooden-registration",
   "metadata": {},
   "outputs": [
    {
     "data": {
      "text/plain": [
       "0.046474617443134476"
      ]
     },
     "execution_count": 172,
     "metadata": {},
     "output_type": "execute_result"
    }
   ],
   "source": [
    "np.sqrt(mean_squared_error(y_test,pred))"
   ]
  },
  {
   "cell_type": "code",
   "execution_count": null,
   "id": "strange-eclipse",
   "metadata": {},
   "outputs": [],
   "source": []
  }
 ],
 "metadata": {
  "kernelspec": {
   "display_name": "Python 3",
   "language": "python",
   "name": "python3"
  },
  "language_info": {
   "codemirror_mode": {
    "name": "ipython",
    "version": 3
   },
   "file_extension": ".py",
   "mimetype": "text/x-python",
   "name": "python",
   "nbconvert_exporter": "python",
   "pygments_lexer": "ipython3",
   "version": "3.8.2"
  }
 },
 "nbformat": 4,
 "nbformat_minor": 5
}
